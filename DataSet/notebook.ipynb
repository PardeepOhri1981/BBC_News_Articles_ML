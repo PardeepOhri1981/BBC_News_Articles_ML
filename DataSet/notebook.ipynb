{
 "cells": [
  {
   "cell_type": "code",
   "execution_count": 18,
   "id": "590bb80d",
   "metadata": {},
   "outputs": [],
   "source": [
    "import numpy as np\n",
    "import pandas as pd\n",
    "import matplotlib.pyplot as plt\n",
    "import seaborn as sns\n"
   ]
  },
  {
   "cell_type": "code",
   "execution_count": 19,
   "id": "fec887f4",
   "metadata": {},
   "outputs": [],
   "source": [
    "data_frame_train = pd.read_csv('BBC News Train.csv')\n",
    "data_frame_test = pd.read_csv('BBC News Test.csv')"
   ]
  },
  {
   "cell_type": "code",
   "execution_count": 20,
   "id": "a64128cb",
   "metadata": {},
   "outputs": [
    {
     "data": {
      "text/plain": [
       "(1490, 3)"
      ]
     },
     "execution_count": 20,
     "metadata": {},
     "output_type": "execute_result"
    }
   ],
   "source": [
    "data_frame_train.shape"
   ]
  },
  {
   "cell_type": "code",
   "execution_count": 21,
   "id": "fdeab0ce",
   "metadata": {},
   "outputs": [
    {
     "data": {
      "text/plain": [
       "(735, 2)"
      ]
     },
     "execution_count": 21,
     "metadata": {},
     "output_type": "execute_result"
    }
   ],
   "source": [
    "data_frame_test.shape"
   ]
  },
  {
   "cell_type": "code",
   "execution_count": 22,
   "id": "29cefe94",
   "metadata": {},
   "outputs": [
    {
     "data": {
      "text/html": [
       "<div>\n",
       "<style scoped>\n",
       "    .dataframe tbody tr th:only-of-type {\n",
       "        vertical-align: middle;\n",
       "    }\n",
       "\n",
       "    .dataframe tbody tr th {\n",
       "        vertical-align: top;\n",
       "    }\n",
       "\n",
       "    .dataframe thead th {\n",
       "        text-align: right;\n",
       "    }\n",
       "</style>\n",
       "<table border=\"1\" class=\"dataframe\">\n",
       "  <thead>\n",
       "    <tr style=\"text-align: right;\">\n",
       "      <th></th>\n",
       "      <th>ArticleId</th>\n",
       "      <th>Text</th>\n",
       "      <th>Category</th>\n",
       "    </tr>\n",
       "  </thead>\n",
       "  <tbody>\n",
       "    <tr>\n",
       "      <th>0</th>\n",
       "      <td>1833</td>\n",
       "      <td>worldcom ex-boss launches defence lawyers defe...</td>\n",
       "      <td>business</td>\n",
       "    </tr>\n",
       "    <tr>\n",
       "      <th>1</th>\n",
       "      <td>154</td>\n",
       "      <td>german business confidence slides german busin...</td>\n",
       "      <td>business</td>\n",
       "    </tr>\n",
       "    <tr>\n",
       "      <th>2</th>\n",
       "      <td>1101</td>\n",
       "      <td>bbc poll indicates economic gloom citizens in ...</td>\n",
       "      <td>business</td>\n",
       "    </tr>\n",
       "    <tr>\n",
       "      <th>3</th>\n",
       "      <td>1976</td>\n",
       "      <td>lifestyle  governs mobile choice  faster  bett...</td>\n",
       "      <td>tech</td>\n",
       "    </tr>\n",
       "    <tr>\n",
       "      <th>4</th>\n",
       "      <td>917</td>\n",
       "      <td>enron bosses in $168m payout eighteen former e...</td>\n",
       "      <td>business</td>\n",
       "    </tr>\n",
       "    <tr>\n",
       "      <th>...</th>\n",
       "      <td>...</td>\n",
       "      <td>...</td>\n",
       "      <td>...</td>\n",
       "    </tr>\n",
       "    <tr>\n",
       "      <th>1485</th>\n",
       "      <td>857</td>\n",
       "      <td>double eviction from big brother model caprice...</td>\n",
       "      <td>entertainment</td>\n",
       "    </tr>\n",
       "    <tr>\n",
       "      <th>1486</th>\n",
       "      <td>325</td>\n",
       "      <td>dj double act revamp chart show dj duo jk and ...</td>\n",
       "      <td>entertainment</td>\n",
       "    </tr>\n",
       "    <tr>\n",
       "      <th>1487</th>\n",
       "      <td>1590</td>\n",
       "      <td>weak dollar hits reuters revenues at media gro...</td>\n",
       "      <td>business</td>\n",
       "    </tr>\n",
       "    <tr>\n",
       "      <th>1488</th>\n",
       "      <td>1587</td>\n",
       "      <td>apple ipod family expands market apple has exp...</td>\n",
       "      <td>tech</td>\n",
       "    </tr>\n",
       "    <tr>\n",
       "      <th>1489</th>\n",
       "      <td>538</td>\n",
       "      <td>santy worm makes unwelcome visit thousands of ...</td>\n",
       "      <td>tech</td>\n",
       "    </tr>\n",
       "  </tbody>\n",
       "</table>\n",
       "<p>1490 rows × 3 columns</p>\n",
       "</div>"
      ],
      "text/plain": [
       "      ArticleId                                               Text  \\\n",
       "0          1833  worldcom ex-boss launches defence lawyers defe...   \n",
       "1           154  german business confidence slides german busin...   \n",
       "2          1101  bbc poll indicates economic gloom citizens in ...   \n",
       "3          1976  lifestyle  governs mobile choice  faster  bett...   \n",
       "4           917  enron bosses in $168m payout eighteen former e...   \n",
       "...         ...                                                ...   \n",
       "1485        857  double eviction from big brother model caprice...   \n",
       "1486        325  dj double act revamp chart show dj duo jk and ...   \n",
       "1487       1590  weak dollar hits reuters revenues at media gro...   \n",
       "1488       1587  apple ipod family expands market apple has exp...   \n",
       "1489        538  santy worm makes unwelcome visit thousands of ...   \n",
       "\n",
       "           Category  \n",
       "0          business  \n",
       "1          business  \n",
       "2          business  \n",
       "3              tech  \n",
       "4          business  \n",
       "...             ...  \n",
       "1485  entertainment  \n",
       "1486  entertainment  \n",
       "1487       business  \n",
       "1488           tech  \n",
       "1489           tech  \n",
       "\n",
       "[1490 rows x 3 columns]"
      ]
     },
     "execution_count": 22,
     "metadata": {},
     "output_type": "execute_result"
    }
   ],
   "source": [
    "data_frame_train"
   ]
  },
  {
   "cell_type": "code",
   "execution_count": 23,
   "id": "fcc3ed68",
   "metadata": {},
   "outputs": [
    {
     "data": {
      "text/html": [
       "<div>\n",
       "<style scoped>\n",
       "    .dataframe tbody tr th:only-of-type {\n",
       "        vertical-align: middle;\n",
       "    }\n",
       "\n",
       "    .dataframe tbody tr th {\n",
       "        vertical-align: top;\n",
       "    }\n",
       "\n",
       "    .dataframe thead th {\n",
       "        text-align: right;\n",
       "    }\n",
       "</style>\n",
       "<table border=\"1\" class=\"dataframe\">\n",
       "  <thead>\n",
       "    <tr style=\"text-align: right;\">\n",
       "      <th></th>\n",
       "      <th>ArticleId</th>\n",
       "      <th>Text</th>\n",
       "    </tr>\n",
       "  </thead>\n",
       "  <tbody>\n",
       "    <tr>\n",
       "      <th>0</th>\n",
       "      <td>1018</td>\n",
       "      <td>qpr keeper day heads for preston queens park r...</td>\n",
       "    </tr>\n",
       "    <tr>\n",
       "      <th>1</th>\n",
       "      <td>1319</td>\n",
       "      <td>software watching while you work software that...</td>\n",
       "    </tr>\n",
       "    <tr>\n",
       "      <th>2</th>\n",
       "      <td>1138</td>\n",
       "      <td>d arcy injury adds to ireland woe gordon d arc...</td>\n",
       "    </tr>\n",
       "    <tr>\n",
       "      <th>3</th>\n",
       "      <td>459</td>\n",
       "      <td>india s reliance family feud heats up the ongo...</td>\n",
       "    </tr>\n",
       "    <tr>\n",
       "      <th>4</th>\n",
       "      <td>1020</td>\n",
       "      <td>boro suffer morrison injury blow middlesbrough...</td>\n",
       "    </tr>\n",
       "    <tr>\n",
       "      <th>...</th>\n",
       "      <td>...</td>\n",
       "      <td>...</td>\n",
       "    </tr>\n",
       "    <tr>\n",
       "      <th>730</th>\n",
       "      <td>1923</td>\n",
       "      <td>eu to probe alitalia  state aid  the european ...</td>\n",
       "    </tr>\n",
       "    <tr>\n",
       "      <th>731</th>\n",
       "      <td>373</td>\n",
       "      <td>u2 to play at grammy awards show irish rock ba...</td>\n",
       "    </tr>\n",
       "    <tr>\n",
       "      <th>732</th>\n",
       "      <td>1704</td>\n",
       "      <td>sport betting rules in spotlight a group of mp...</td>\n",
       "    </tr>\n",
       "    <tr>\n",
       "      <th>733</th>\n",
       "      <td>206</td>\n",
       "      <td>alfa romeos  to get gm engines  fiat is to sto...</td>\n",
       "    </tr>\n",
       "    <tr>\n",
       "      <th>734</th>\n",
       "      <td>471</td>\n",
       "      <td>citizenship event for 18s touted citizenship c...</td>\n",
       "    </tr>\n",
       "  </tbody>\n",
       "</table>\n",
       "<p>735 rows × 2 columns</p>\n",
       "</div>"
      ],
      "text/plain": [
       "     ArticleId                                               Text\n",
       "0         1018  qpr keeper day heads for preston queens park r...\n",
       "1         1319  software watching while you work software that...\n",
       "2         1138  d arcy injury adds to ireland woe gordon d arc...\n",
       "3          459  india s reliance family feud heats up the ongo...\n",
       "4         1020  boro suffer morrison injury blow middlesbrough...\n",
       "..         ...                                                ...\n",
       "730       1923  eu to probe alitalia  state aid  the european ...\n",
       "731        373  u2 to play at grammy awards show irish rock ba...\n",
       "732       1704  sport betting rules in spotlight a group of mp...\n",
       "733        206  alfa romeos  to get gm engines  fiat is to sto...\n",
       "734        471  citizenship event for 18s touted citizenship c...\n",
       "\n",
       "[735 rows x 2 columns]"
      ]
     },
     "execution_count": 23,
     "metadata": {},
     "output_type": "execute_result"
    }
   ],
   "source": [
    "data_frame_test"
   ]
  },
  {
   "cell_type": "code",
   "execution_count": 24,
   "id": "af0904ed",
   "metadata": {},
   "outputs": [
    {
     "data": {
      "text/plain": [
       "array(['business', 'tech', 'politics', 'sport', 'entertainment'],\n",
       "      dtype=object)"
      ]
     },
     "execution_count": 24,
     "metadata": {},
     "output_type": "execute_result"
    }
   ],
   "source": [
    "data_frame_train.Category.unique()"
   ]
  },
  {
   "cell_type": "code",
   "execution_count": 25,
   "id": "1da5ffad",
   "metadata": {},
   "outputs": [
    {
     "name": "stdout",
     "output_type": "stream",
     "text": [
      "<class 'pandas.core.frame.DataFrame'>\n",
      "RangeIndex: 1490 entries, 0 to 1489\n",
      "Data columns (total 3 columns):\n",
      " #   Column     Non-Null Count  Dtype \n",
      "---  ------     --------------  ----- \n",
      " 0   ArticleId  1490 non-null   int64 \n",
      " 1   Text       1490 non-null   object\n",
      " 2   Category   1490 non-null   object\n",
      "dtypes: int64(1), object(2)\n",
      "memory usage: 35.1+ KB\n"
     ]
    }
   ],
   "source": [
    "data_frame_train.info()"
   ]
  },
  {
   "cell_type": "code",
   "execution_count": 26,
   "id": "a0407ddc",
   "metadata": {},
   "outputs": [
    {
     "data": {
      "text/plain": [
       "Category\n",
       "sport            346\n",
       "business         336\n",
       "politics         274\n",
       "entertainment    273\n",
       "tech             261\n",
       "Name: count, dtype: int64"
      ]
     },
     "execution_count": 26,
     "metadata": {},
     "output_type": "execute_result"
    }
   ],
   "source": [
    "data_frame_train['Category'].value_counts()"
   ]
  },
  {
   "cell_type": "markdown",
   "id": "dfff66b5",
   "metadata": {},
   "source": [
    "ExplorataryTesting"
   ]
  },
  {
   "cell_type": "code",
   "execution_count": 27,
   "id": "df4cd10c",
   "metadata": {},
   "outputs": [
    {
     "data": {
      "text/plain": [
       "ArticleId    False\n",
       "Text         False\n",
       "dtype: bool"
      ]
     },
     "execution_count": 27,
     "metadata": {},
     "output_type": "execute_result"
    }
   ],
   "source": [
    "data_frame_test.isnull().any()##Checkthenullvaluesindataset"
   ]
  },
  {
   "cell_type": "code",
   "execution_count": 28,
   "id": "6cdce619",
   "metadata": {},
   "outputs": [
    {
     "data": {
      "image/png": "[encoded data removed]",
      "text/plain": [
       "<Figure size 1200x500 with 1 Axes>"
      ]
     },
     "metadata": {},
     "output_type": "display_data"
    }
   ],
   "source": [
    "category_count = data_frame_train['Category'].value_counts()\n",
    "categories = category_count.index\n",
    "fig = plt.figure(figsize=(12,5))\n",
    "ax= fig.add_subplot(111)\n",
    "sns.barplot(x=category_count.index, y = category_count)\n",
    "plt.xlabel('Categories', size = 15)\n",
    "plt.ylabel('News Frequency', size = 15)\n",
    "plt.xticks(size=12)\n",
    "plt.title('News by Categories', size =15)\n",
    "plt.show()\n"
   ]
  },
  {
   "cell_type": "code",
   "execution_count": 29,
   "id": "5e2f209b",
   "metadata": {},
   "outputs": [],
   "source": [
    "import re # Regular Expression\n",
    "# Test Processing\n",
    "import nltk\n",
    "from nltk.corpus import stopwords\n",
    "from nltk.stem import PorterStemmer\n",
    "from  nltk.stem import WordNetLemmatizer\n",
    "def preprocessing(sentence):\n",
    "    ##Lower Case\n",
    "  sentence = sentence.lower()\n",
    "  ## Correction of Sentenc\n",
    "  sentence = re.sub(r\"n\\'t\", \" not\", sentence)\n",
    "  sentence = re.sub(r\"\\'re\", \" are\", sentence)\n",
    "  sentence = re.sub(r\"\\'s\", \" is\", sentence)\n",
    "  sentence = re.sub(r\"\\'d\", \" would\", sentence)\n",
    "  sentence = re.sub(r\"\\'ll\", \" will\", sentence)\n",
    "  sentence = re.sub(r\"\\'t\", \" not\", sentence)\n",
    "  sentence = re.sub(r\"\\'ve\", \" have\", sentence)\n",
    "  sentence = re.sub(r\"\\'m\", \" am\", sentence)\n",
    "  sentence = re.sub(r\"wont\", \"will not\", sentence)\n",
    "  sentence = re.sub(r\"wouldnt\", \"would not\", sentence)\n",
    "  sentence = re.sub(r\"shouldnt\", \"should not\", sentence)\n",
    "  sentence = re.sub(r\"couldnt\", \"could not\", sentence)\n",
    "  sentence = re.sub(r\"cudnt\", \"could not\", sentence)\n",
    "  sentence = re.sub(r\"cant\", \"can not\", sentence)\n",
    "  sentence = re.sub(r\"dont\", \"do not\", sentence)\n",
    "  sentence = re.sub(r\"doesnt\", \"does not\", sentence)\n",
    "  sentence = re.sub(r\"didnt\", \"did not\", sentence)\n",
    "  sentence = re.sub(r\"wasnt\", \"was not\", sentence)\n",
    "  sentence = re.sub(r\"werent\", \"were not\", sentence)\n",
    "  sentence = re.sub(r\"havent\", \"have not\", sentence)\n",
    "  sentence = re.sub(r\"hadnt\", \"had not\", sentence)\n",
    "  sentence = re.sub(r\"ain't\", \"am not\",sentence)\n",
    "  sentence = re.sub(r\"aren't\", \"are not\",sentence)\n",
    "  sentence = re.sub(r\"can't\", \"cannot\",sentence)\n",
    "  sentence = re.sub(r\"can't've\", \"cannot have\",sentence)\n",
    "  sentence = re.sub(r\"'cause\", \"because\",sentence)\n",
    "  sentence = re.sub(r\"could've\", \"could have\",sentence)\n",
    "  sentence = re.sub(r\"couldn't\", \"could not\",sentence)\n",
    "  sentence = re.sub(r\"couldn't've\", \"could not have\",sentence)\n",
    "  sentence = re.sub(r\"didn't\", \"did not\",sentence)\n",
    "  sentence = re.sub(r\"doesn't\", \"does not\",sentence)\n",
    "  sentence = re.sub(r\"don't\", \"do not\",sentence)\n",
    "  sentence = re.sub(r\"hadn't\", \"had not\",sentence)\n",
    "  sentence = re.sub(r\"hadn't've\", \"had not have\",sentence)\n",
    "  sentence = re.sub(r\"hasn't\", \"has not\",sentence)\n",
    "  sentence = re.sub(r\"haven't\", \"have not\",sentence)\n",
    "  sentence = re.sub(r\"he'd\", \"he would\",sentence)\n",
    "  sentence = re.sub(r\"he'd've\", \"he would have\",sentence)\n",
    "  sentence = re.sub(r\"he'll\", \"he will\",sentence)\n",
    "  sentence = re.sub(r\"he'll've\", \"he will have\",sentence)\n",
    "  sentence = re.sub(r\"he's\", \"he is\",sentence)\n",
    "  sentence = re.sub(r\"how'd\", \"how did\",sentence)\n",
    "  sentence = re.sub(r\"how'd'y\", \"how do you\",sentence)\n",
    "  sentence = re.sub(r\"how'll\", \"how will\",sentence)\n",
    "  sentence = re.sub(r\"how's\", \"how is\",sentence)\n",
    "  sentence = re.sub(r\"i'd\", \"I would\",sentence)\n",
    "  sentence = re.sub(r\"i'd've\", \"I would have\",sentence)\n",
    "  sentence = re.sub(r\"i'll\", \"I will\",sentence)\n",
    "  sentence = re.sub(r\"i'll've\", \"I will have\",sentence)\n",
    "  sentence = re.sub(r\"i'm\", \"I am\",sentence)\n",
    "  sentence = re.sub(r\"i've\", \"I have\",sentence)\n",
    "  sentence = re.sub(r\"isn't\", \"is not\",sentence)\n",
    "  sentence = re.sub(r\"it'd\", \"it had\",sentence)\n",
    "  sentence = re.sub(r\"it'd've\", \"it would have\",sentence)\n",
    "  sentence = re.sub(r\"it'll\", \"it will\",sentence)\n",
    "  sentence = re.sub(r\"it'll've\", \"it will have\",sentence)\n",
    "  sentence = re.sub(r\"it's\", \"it is\",sentence)\n",
    "  sentence = re.sub(r\"let's\", \"let us\",sentence)\n",
    "  sentence = re.sub(r\"ma'am\", \"madam\",sentence)\n",
    "  sentence = re.sub(r\"mayn't\", \"may not\",sentence)\n",
    "  sentence = re.sub(r\"might've\", \"might have\",sentence)\n",
    "  sentence = re.sub(r\"mightn't\", \"might not\",sentence)\n",
    "  sentence = re.sub(r\"mightn't've\", \"might not have\",sentence)\n",
    "  sentence = re.sub(r\"must've\", \"must have\",sentence)\n",
    "  sentence = re.sub(r\"mustn't\", \"must not\",sentence)\n",
    "  sentence = re.sub(r\"mustn't've\", \"must not have\",sentence)\n",
    "  sentence = re.sub(r\"needn't\", \"need not\",sentence)\n",
    "  sentence = re.sub(r\"needn't've\", \"need not have\",sentence)\n",
    "  sentence = re.sub(r\"o'clock\", \"of the clock\",sentence)\n",
    "  sentence = re.sub(r\"oughtn't\", \"ought not\",sentence)\n",
    "  sentence = re.sub(r\"oughtn't've\", \"ought not have\",sentence)\n",
    "  sentence = re.sub(r\"shan't\", \"shall not\",sentence)\n",
    "  sentence = re.sub(r\"sha'n't\", \"shall not\",sentence)\n",
    "  sentence = re.sub(r\"shan't've\", \"shall not have\",sentence)\n",
    "  sentence = re.sub(r\"she'd\", \"she would\",sentence)\n",
    "  sentence = re.sub(r\"she'd've\", \"she would have\",sentence)\n",
    "  sentence = re.sub(r\"she'll\", \"she will\",sentence)\n",
    "  sentence = re.sub(r\"she'll've\", \"she will have\",sentence)\n",
    "  sentence = re.sub(r\"she's\", \"she is\",sentence)\n",
    "  sentence = re.sub(r\"should've\", \"should have\",sentence)\n",
    "  sentence = re.sub(r\"shouldn't\", \"should not\",sentence)\n",
    "  sentence = re.sub(r\"shouldn't've\", \"should not have\",sentence)\n",
    "  sentence = re.sub(r\"so've\", \"so have\",sentence)\n",
    "  sentence = re.sub(r\"so's\", \"so is\",sentence)\n",
    "  sentence = re.sub(r\"that'd\", \"that would\",sentence)\n",
    "  sentence = re.sub(r\"that'd've\", \"that would have\",sentence)\n",
    "  sentence = re.sub(r\"that's\", \"that is\",sentence)\n",
    "  sentence = re.sub(r\"there'd\", \"there had\",sentence)\n",
    "  sentence = re.sub(r\"there'd've\", \"there would have\",sentence)\n",
    "  sentence = re.sub(r\"there's\", \"there is\",sentence)\n",
    "  sentence = re.sub(r\"they'd\", \"they would\",sentence)\n",
    "  sentence = re.sub(r\"they'd've\", \"they would have\",sentence)\n",
    "  sentence = re.sub(r\"they'll\", \"they will\",sentence)\n",
    "  sentence = re.sub(r\"they'll've\", \"they will have\",sentence)\n",
    "  sentence = re.sub(r\"they're\", \"they are\",sentence)\n",
    "  sentence = re.sub(r\"they've\", \"they have\",sentence)\n",
    "  sentence = re.sub(r\"to've\", \"to have\",sentence)\n",
    "  sentence = re.sub(r\"wasn't\", \"was not\",sentence)\n",
    "  sentence = re.sub(r\"we'd\", \"we had\",sentence)\n",
    "  sentence = re.sub(r\"we'd've\", \"we would have\",sentence)\n",
    "  sentence = re.sub(r\"we'll\", \"we will\",sentence)\n",
    "  sentence = re.sub(r\"we'll've\", \"we will have\",sentence)\n",
    "  sentence = re.sub(r\"we're\", \"we are\",sentence)\n",
    "  sentence = re.sub(r\"we've\", \"we have\",sentence)\n",
    "  sentence = re.sub(r\"weren't\", \"were not\",sentence)\n",
    "  sentence = re.sub(r\"what'll\", \"what will\",sentence)\n",
    "  sentence = re.sub(r\"what'll've\", \"what will have\",sentence)\n",
    "  sentence = re.sub(r\"what're\", \"what are\",sentence)\n",
    "  sentence = re.sub(r\"what's\", \"what is\",sentence)\n",
    "  sentence = re.sub(r\"what've\", \"what have\",sentence)\n",
    "  sentence = re.sub(r\"when's\", \"when is\",sentence)\n",
    "  sentence = re.sub(r\"when've\", \"when have\",sentence)\n",
    "  sentence = re.sub(r\"where'd\", \"where did\",sentence)\n",
    "  sentence = re.sub(r\"where's\", \"where is\",sentence)\n",
    "  sentence = re.sub(r\"where've\", \"where have\",sentence)\n",
    "  sentence = re.sub(r\"who'll\", \"who will\",sentence)\n",
    "  sentence = re.sub(r\"who'll've\", \"who will have\",sentence)\n",
    "  sentence = re.sub(r\"who's\", \"who is\",sentence)\n",
    "  sentence = re.sub(r\"who've\", \"who have\",sentence)\n",
    "  sentence = re.sub(r\"why's\", \"why is\",sentence)\n",
    "  sentence = re.sub(r\"why've\", \"why have\",sentence)\n",
    "  sentence = re.sub(r\"will've\", \"will have\",sentence)\n",
    "  sentence = re.sub(r\"won't\", \"will not\",sentence)\n",
    "  sentence = re.sub(r\"won't've\", \"will not have\",sentence)\n",
    "  sentence = re.sub(r\"would've\", \"would have\",sentence)\n",
    "  sentence = re.sub(r\"wouldn't\", \"would not\",sentence)\n",
    "  sentence = re.sub(r\"wouldn't've\", \"would not have\",sentence)\n",
    "  sentence = re.sub(r\"y'all\", \"you all\",sentence)\n",
    "  sentence = re.sub(r\"y'alls\", \"you alls\",sentence)\n",
    "  sentence = re.sub(r\"y'all'd\", \"you all would\",sentence)\n",
    "  sentence = re.sub(r\"y'all'd've\", \"you all would have\",sentence)\n",
    "  sentence = re.sub(r\"y'all're\", \"you all are\",sentence)\n",
    "  sentence = re.sub(r\"y'all've\", \"you all have\",sentence)\n",
    "  sentence = re.sub(r\"you'd\", \"you had\",sentence)\n",
    "  sentence = re.sub(r\"you'd've\", \"you would have\",sentence)\n",
    "  sentence = re.sub(r\"you'll\", \"you you will\",sentence)\n",
    "  sentence = re.sub(r\"you'll've\", \"you you will have\",sentence)\n",
    "  sentence = re.sub(r\"you're\", \"you are\",sentence)\n",
    "  sentence = re.sub(r\"you've\", \"you have\",sentence)\n",
    "  ## Remove Punctuation\n",
    "  sentence = re.sub(r'[^\\w\\s]','',sentence)\n",
    "  ## Remove Html Tag\n",
    "  cleaner = re.compile('<.*?>|&([a-z0-9]+|#[0-9]{1-6});')\n",
    "\n",
    "  sentence = re.sub(cleaner, '',sentence)\n",
    "\n",
    "\n",
    "  ## Remove Digit\n",
    "\n",
    "  sentence = re.sub(r'[^A-za-z]',' ',sentence)\n",
    "  sentence = re.sub(r'[\\w._%+-]{1-20}@[\\w.-]{1,20}.[A-Za-z]{2,3}','', sentence)\n",
    "  ## Remove URL\n",
    "\n",
    "  re.sub(r'https?s:\\/\\/.*','',sentence)\n",
    "  ## stopwords\n",
    "  sentence = \" \".join(item for item in sentence.split() if item not in stopwords.words('english'))\n",
    "\n",
    "  ## Stemmer Change the synonyms to base word  Its convert based on vocal liky Studies convert to Studi\n",
    "  ##sentence = ' '.join([PorterStemmer().stem(word) for word in sentence.split()])\n",
    "\n",
    "  ## Lemmatization   Also covert the word to base word studies to study\n",
    "  sentence = ' '.join([WordNetLemmatizer().lemmatize(word) for word in sentence.split()])\n",
    "  return sentence\n"
   ]
  },
  {
   "cell_type": "code",
   "execution_count": 30,
   "id": "0e534750",
   "metadata": {},
   "outputs": [
    {
     "name": "stderr",
     "output_type": "stream",
     "text": [
      "[nltk_data] Downloading package stopwords to\n",
      "[nltk_data]     C:\\Users\\parde\\AppData\\Roaming\\nltk_data...\n",
      "[nltk_data]   Package stopwords is already up-to-date!\n"
     ]
    },
    {
     "data": {
      "text/plain": [
       "True"
      ]
     },
     "execution_count": 30,
     "metadata": {},
     "output_type": "execute_result"
    }
   ],
   "source": [
    "nltk.download('stopwords')"
   ]
  },
  {
   "cell_type": "code",
   "execution_count": 31,
   "id": "33ea978b",
   "metadata": {},
   "outputs": [
    {
     "name": "stderr",
     "output_type": "stream",
     "text": [
      "[nltk_data] Downloading package wordnet to\n",
      "[nltk_data]     C:\\Users\\parde\\AppData\\Roaming\\nltk_data...\n",
      "[nltk_data]   Package wordnet is already up-to-date!\n"
     ]
    },
    {
     "data": {
      "text/plain": [
       "True"
      ]
     },
     "execution_count": 31,
     "metadata": {},
     "output_type": "execute_result"
    }
   ],
   "source": [
    "nltk.download('wordnet')"
   ]
  },
  {
   "cell_type": "code",
   "execution_count": 32,
   "id": "54170113",
   "metadata": {},
   "outputs": [],
   "source": [
    "data_frame_train['Token'] = data_frame_train['Text'].apply(lambda sentence : preprocessing(sentence))"
   ]
  },
  {
   "cell_type": "code",
   "execution_count": null,
   "id": "6b87de42",
   "metadata": {},
   "outputs": [
    {
     "data": {
      "text/html": [
       "<div>\n",
       "<style scoped>\n",
       "    .dataframe tbody tr th:only-of-type {\n",
       "        vertical-align: middle;\n",
       "    }\n",
       "\n",
       "    .dataframe tbody tr th {\n",
       "        vertical-align: top;\n",
       "    }\n",
       "\n",
       "    .dataframe thead th {\n",
       "        text-align: right;\n",
       "    }\n",
       "</style>\n",
       "<table border=\"1\" class=\"dataframe\">\n",
       "  <thead>\n",
       "    <tr style=\"text-align: right;\">\n",
       "      <th></th>\n",
       "      <th>ArticleId</th>\n",
       "      <th>Text</th>\n",
       "      <th>Category</th>\n",
       "      <th>Token</th>\n",
       "    </tr>\n",
       "  </thead>\n",
       "  <tbody>\n",
       "    <tr>\n",
       "      <th>0</th>\n",
       "      <td>1833</td>\n",
       "      <td>worldcom ex-boss launches defence lawyers defe...</td>\n",
       "      <td>business</td>\n",
       "      <td>worldcom exboss launch defence lawyer defendin...</td>\n",
       "    </tr>\n",
       "    <tr>\n",
       "      <th>1</th>\n",
       "      <td>154</td>\n",
       "      <td>german business confidence slides german busin...</td>\n",
       "      <td>business</td>\n",
       "      <td>german business confidence slide german busine...</td>\n",
       "    </tr>\n",
       "    <tr>\n",
       "      <th>2</th>\n",
       "      <td>1101</td>\n",
       "      <td>bbc poll indicates economic gloom citizens in ...</td>\n",
       "      <td>business</td>\n",
       "      <td>bbc poll indicates economic gloom citizen majo...</td>\n",
       "    </tr>\n",
       "    <tr>\n",
       "      <th>3</th>\n",
       "      <td>1976</td>\n",
       "      <td>lifestyle  governs mobile choice  faster  bett...</td>\n",
       "      <td>tech</td>\n",
       "      <td>lifestyle governs mobile choice faster better ...</td>\n",
       "    </tr>\n",
       "    <tr>\n",
       "      <th>4</th>\n",
       "      <td>917</td>\n",
       "      <td>enron bosses in $168m payout eighteen former e...</td>\n",
       "      <td>business</td>\n",
       "      <td>enron boss payout eighteen former enron direct...</td>\n",
       "    </tr>\n",
       "  </tbody>\n",
       "</table>\n",
       "</div>"
      ],
      "text/plain": [
       "   ArticleId                                               Text  Category  \\\n",
       "0       1833  worldcom ex-boss launches defence lawyers defe...  business   \n",
       "1        154  german business confidence slides german busin...  business   \n",
       "2       1101  bbc poll indicates economic gloom citizens in ...  business   \n",
       "3       1976  lifestyle  governs mobile choice  faster  bett...      tech   \n",
       "4        917  enron bosses in $168m payout eighteen former e...  business   \n",
       "\n",
       "                                               Token  \n",
       "0  worldcom exboss launch defence lawyer defendin...  \n",
       "1  german business confidence slide german busine...  \n",
       "2  bbc poll indicates economic gloom citizen majo...  \n",
       "3  lifestyle governs mobile choice faster better ...  \n",
       "4  enron boss payout eighteen former enron direct...  "
      ]
     },
     "execution_count": 33,
     "metadata": {},
     "output_type": "execute_result"
    }
   ],
   "source": [
    "data_frame_train.head()"
   ]
  },
  {
   "cell_type": "code",
   "execution_count": 34,
   "id": "1946442e",
   "metadata": {},
   "outputs": [],
   "source": [
    "X = data_frame_train.Token\n",
    "Y = data_frame_train.Category\n"
   ]
  },
  {
   "cell_type": "code",
   "execution_count": 35,
   "id": "9bf42a89",
   "metadata": {},
   "outputs": [],
   "source": [
    "from sklearn.model_selection import train_test_split\n",
    "x_train,x_test,y_train,y_test = train_test_split(X,Y,test_size=0.2, random_state=42)\n"
   ]
  },
  {
   "cell_type": "code",
   "execution_count": 37,
   "id": "f86704ad",
   "metadata": {},
   "outputs": [
    {
     "name": "stdout",
     "output_type": "stream",
     "text": [
      "(1192,) (1192,)\n"
     ]
    }
   ],
   "source": [
    "print(x_train.shape,y_train.shape)"
   ]
  },
  {
   "cell_type": "code",
   "execution_count": 38,
   "id": "c45df4ce",
   "metadata": {},
   "outputs": [
    {
     "name": "stdout",
     "output_type": "stream",
     "text": [
      "(298,) (298,)\n"
     ]
    }
   ],
   "source": [
    "print(x_test.shape,y_test.shape)"
   ]
  },
  {
   "cell_type": "code",
   "execution_count": 39,
   "id": "ebdec2e4",
   "metadata": {},
   "outputs": [],
   "source": [
    "from sklearn.feature_extraction.text import TfidfVectorizer\n",
    "## Term - Frequency- Inverse Document Frequency\n",
    "\n",
    "# t = term (word), d = docuement (page), D = Corpus (File)\n",
    "\n",
    "# IDF(t,d) = log(N/(1+DF(t)))\n",
    "\n",
    "# TF(t,d) = number of times t (word) appears in d (document) / total number of terms in d (document)\n",
    "\n",
    "# N = total number of documents, DF(t) = Number of documents containing the term t. \n",
    "\n",
    "# TF_IDF(t,d,D) = Tf(t,d) * IDF (t,D)  Important Formula\n",
    "\n",
    "## Will cover more state-of_art (text preprocessing ) techniques while using Deep Learning.\n",
    "\n",
    "from nltk.tokenize import RegexpTokenizer\n"
   ]
  },
  {
   "cell_type": "code",
   "execution_count": 41,
   "id": "8fb04e57",
   "metadata": {},
   "outputs": [
    {
     "data": {
      "text/html": [
       "<style>#sk-container-id-1 {color: black;}#sk-container-id-1 pre{padding: 0;}#sk-container-id-1 div.sk-toggleable {background-color: white;}#sk-container-id-1 label.sk-toggleable__label {cursor: pointer;display: block;width: 100%;margin-bottom: 0;padding: 0.3em;box-sizing: border-box;text-align: center;}#sk-container-id-1 label.sk-toggleable__label-arrow:before {content: \"▸\";float: left;margin-right: 0.25em;color: #696969;}#sk-container-id-1 label.sk-toggleable__label-arrow:hover:before {color: black;}#sk-container-id-1 div.sk-estimator:hover label.sk-toggleable__label-arrow:before {color: black;}#sk-container-id-1 div.sk-toggleable__content {max-height: 0;max-width: 0;overflow: hidden;text-align: left;background-color: #f0f8ff;}#sk-container-id-1 div.sk-toggleable__content pre {margin: 0.2em;color: black;border-radius: 0.25em;background-color: #f0f8ff;}#sk-container-id-1 input.sk-toggleable__control:checked~div.sk-toggleable__content {max-height: 200px;max-width: 100%;overflow: auto;}#sk-container-id-1 input.sk-toggleable__control:checked~label.sk-toggleable__label-arrow:before {content: \"▾\";}#sk-container-id-1 div.sk-estimator input.sk-toggleable__control:checked~label.sk-toggleable__label {background-color: #d4ebff;}#sk-container-id-1 div.sk-label input.sk-toggleable__control:checked~label.sk-toggleable__label {background-color: #d4ebff;}#sk-container-id-1 input.sk-hidden--visually {border: 0;clip: rect(1px 1px 1px 1px);clip: rect(1px, 1px, 1px, 1px);height: 1px;margin: -1px;overflow: hidden;padding: 0;position: absolute;width: 1px;}#sk-container-id-1 div.sk-estimator {font-family: monospace;background-color: #f0f8ff;border: 1px dotted black;border-radius: 0.25em;box-sizing: border-box;margin-bottom: 0.5em;}#sk-container-id-1 div.sk-estimator:hover {background-color: #d4ebff;}#sk-container-id-1 div.sk-parallel-item::after {content: \"\";width: 100%;border-bottom: 1px solid gray;flex-grow: 1;}#sk-container-id-1 div.sk-label:hover label.sk-toggleable__label {background-color: #d4ebff;}#sk-container-id-1 div.sk-serial::before {content: \"\";position: absolute;border-left: 1px solid gray;box-sizing: border-box;top: 0;bottom: 0;left: 50%;z-index: 0;}#sk-container-id-1 div.sk-serial {display: flex;flex-direction: column;align-items: center;background-color: white;padding-right: 0.2em;padding-left: 0.2em;position: relative;}#sk-container-id-1 div.sk-item {position: relative;z-index: 1;}#sk-container-id-1 div.sk-parallel {display: flex;align-items: stretch;justify-content: center;background-color: white;position: relative;}#sk-container-id-1 div.sk-item::before, #sk-container-id-1 div.sk-parallel-item::before {content: \"\";position: absolute;border-left: 1px solid gray;box-sizing: border-box;top: 0;bottom: 0;left: 50%;z-index: -1;}#sk-container-id-1 div.sk-parallel-item {display: flex;flex-direction: column;z-index: 1;position: relative;background-color: white;}#sk-container-id-1 div.sk-parallel-item:first-child::after {align-self: flex-end;width: 50%;}#sk-container-id-1 div.sk-parallel-item:last-child::after {align-self: flex-start;width: 50%;}#sk-container-id-1 div.sk-parallel-item:only-child::after {width: 0;}#sk-container-id-1 div.sk-dashed-wrapped {border: 1px dashed gray;margin: 0 0.4em 0.5em 0.4em;box-sizing: border-box;padding-bottom: 0.4em;background-color: white;}#sk-container-id-1 div.sk-label label {font-family: monospace;font-weight: bold;display: inline-block;line-height: 1.2em;}#sk-container-id-1 div.sk-label-container {text-align: center;}#sk-container-id-1 div.sk-container {/* jupyter's `normalize.less` sets `[hidden] { display: none; }` but bootstrap.min.css set `[hidden] { display: none !important; }` so we also need the `!important` here to be able to override the default hidden behavior on the sphinx rendered scikit-learn.org. See: https://github.com/scikit-learn/scikit-learn/issues/21755 */display: inline-block !important;position: relative;}#sk-container-id-1 div.sk-text-repr-fallback {display: none;}</style><div id=\"sk-container-id-1\" class=\"sk-top-container\"><div class=\"sk-text-repr-fallback\"><pre>TfidfVectorizer(tokenizer=&lt;bound method RegexpTokenizer.tokenize of RegexpTokenizer(pattern=&#x27;[a-zA-z0-9]+&#x27;, gaps=False, discard_empty=True, flags=re.UNICODE|re.MULTILINE|re.DOTALL)&gt;)</pre><b>In a Jupyter environment, please rerun this cell to show the HTML representation or trust the notebook. <br />On GitHub, the HTML representation is unable to render, please try loading this page with nbviewer.org.</b></div><div class=\"sk-container\" hidden><div class=\"sk-item\"><div class=\"sk-estimator sk-toggleable\"><input class=\"sk-toggleable__control sk-hidden--visually\" id=\"sk-estimator-id-1\" type=\"checkbox\" checked><label for=\"sk-estimator-id-1\" class=\"sk-toggleable__label sk-toggleable__label-arrow\">TfidfVectorizer</label><div class=\"sk-toggleable__content\"><pre>TfidfVectorizer(tokenizer=&lt;bound method RegexpTokenizer.tokenize of RegexpTokenizer(pattern=&#x27;[a-zA-z0-9]+&#x27;, gaps=False, discard_empty=True, flags=re.UNICODE|re.MULTILINE|re.DOTALL)&gt;)</pre></div></div></div></div></div>"
      ],
      "text/plain": [
       "TfidfVectorizer(tokenizer=<bound method RegexpTokenizer.tokenize of RegexpTokenizer(pattern='[a-zA-z0-9]+', gaps=False, discard_empty=True, flags=re.UNICODE|re.MULTILINE|re.DOTALL)>)"
      ]
     },
     "execution_count": 41,
     "metadata": {},
     "output_type": "execute_result"
    }
   ],
   "source": [
    "token = RegexpTokenizer(r'[a-zA-z0-9]+')\n",
    "Tfidf_Vectorizer =  TfidfVectorizer(tokenizer=token.tokenize)\n",
    "Tfidf_Vectorizer"
   ]
  },
  {
   "cell_type": "code",
   "execution_count": 43,
   "id": "ee731688",
   "metadata": {},
   "outputs": [],
   "source": [
    "X_Train_Transformed = Tfidf_Vectorizer.fit_transform(x_train)"
   ]
  },
  {
   "cell_type": "code",
   "execution_count": 44,
   "id": "6718b437",
   "metadata": {},
   "outputs": [
    {
     "data": {
      "text/plain": [
       "<1192x20566 sparse matrix of type '<class 'numpy.float64'>'\n",
       "\twith 173940 stored elements in Compressed Sparse Row format>"
      ]
     },
     "execution_count": 44,
     "metadata": {},
     "output_type": "execute_result"
    }
   ],
   "source": [
    "X_Train_Transformed"
   ]
  },
  {
   "cell_type": "code",
   "execution_count": 45,
   "id": "692cd0f6",
   "metadata": {},
   "outputs": [
    {
     "name": "stdout",
     "output_type": "stream",
     "text": [
      "['business' 'entertainment' 'politics' 'sport' 'tech']\n"
     ]
    }
   ],
   "source": [
    "from sklearn.preprocessing import LabelEncoder\n",
    "label_fit = LabelEncoder()\n",
    "label_fit.fit(Y)\n",
    "y_train_transformed = label_fit.fit_transform(y_train)\n",
    "y_test_transformed  = label_fit.fit_transform(y_test)\n",
    "print(label_fit.classes_)\n"
   ]
  },
  {
   "cell_type": "code",
   "execution_count": 48,
   "id": "e0b8bbcd",
   "metadata": {},
   "outputs": [
    {
     "data": {
      "text/plain": [
       "{'business': 0, 'entertainment': 1, 'politics': 2, 'sport': 3, 'tech': 4}"
      ]
     },
     "execution_count": 48,
     "metadata": {},
     "output_type": "execute_result"
    }
   ],
   "source": [
    "integer_mapping = {l:i for i,l in enumerate(label_fit.classes_)}\n",
    "integer_mapping"
   ]
  },
  {
   "cell_type": "markdown",
   "id": "7b526b75",
   "metadata": {},
   "source": [
    "## Naive Bayes"
   ]
  },
  {
   "cell_type": "code",
   "execution_count": null,
   "id": "cf05f11f",
   "metadata": {},
   "outputs": [
    {
     "name": "stdout",
     "output_type": "stream",
     "text": [
      "Predicted Labels : [1 2 2 2 3 0 4 1 0 4 2 1 0 3 4 2 0 3 2 0 4 1 3 0 3 4 0 3 4 0 3 0 0 2 3 4 2\n",
      " 0 1 0 3 0 2 0 3 0 2 4 2 0 3 3 0 3 2 1 1 2 0 1 4 0 2 4 4 4 0 4 2 2 2 3 3 3\n",
      " 1 1 0 2 0 0 0 3 3 3 0 1 3 0 0 4 1 0 2 4 0 2 4 4 1 2 1 2 1 3 4 3 2 3 0 4 4\n",
      " 0 4 1 4 0 2 0 1 0 2 3 0 2 0 0 4 4 2 1 0 3 1 3 0 2 0 1 0 1 0 1 4 3 1 2 0 4\n",
      " 2 0 3 0 4 3 1 4 4 3 4 3 3 2 0 4 2 2 4 3 3 4 2 4 4 1 0 4 1 3 0 0 3 3 4 1 1\n",
      " 0 4 2 1 2 3 3 2 4 3 3 2 3 3 0 1 2 3 1 0 3 4 4 0 0 3 2 0 1 3 2 2 3 4 2 3 4\n",
      " 0 0 1 4 0 2 2 2 2 3 3 0 0 4 0 3 3 2 2 1 1 1 0 0 1 1 3 1 3 2 4 3 2 4 1 3 4\n",
      " 0 0 2 4 4 4 3 3 0 2 1 3 3 4 3 3 2 3 3 0 2 1 0 0 2 0 0 0 4 2 1 0 0 0 0 2 1\n",
      " 4 1]\n"
     ]
    }
   ],
   "source": [
    "## Implement Multinomial Bayes\n",
    "\n",
    "from sklearn.naive_bayes import MultinomialNB, GaussianNB,BernoulliNB,CategoricalNB\n",
    "model_MNB = MultinomialNB()\n",
    "X_train_dense = X_Train_Transformed.toarray()\n",
    "\n",
    "model_MNB.fit(X_train_dense,y_train_transformed)\n",
    "X_test_dense = Tfidf_Vectorizer.transform(x_test).toarray()\n",
    "Y_predicted_MNB = model_MNB.predict(X_test_dense)\n",
    "print(\"Predicted Labels :\", Y_predicted_MNB)\n",
    "\n"
   ]
  },
  {
   "cell_type": "code",
   "execution_count": 53,
   "id": "23207265",
   "metadata": {},
   "outputs": [],
   "source": [
    "from sklearn.metrics import accuracy_score, confusion_matrix, classification_report"
   ]
  },
  {
   "cell_type": "code",
   "execution_count": 55,
   "id": "33788621",
   "metadata": {},
   "outputs": [],
   "source": [
    "def plot_matrix(y_test,y_pred, color=\"Greens\"):\n",
    "    labels = np.unique(y_pred)\n",
    "    cm_df = pd.DataFrame(confusion_matrix(y_test,y_pred), index=labels,columns = labels)\n",
    "    sns.heatmap(cm_df, annot= True, fmt='g',cmap=color)\n",
    "    plt.xlabel(\"Actual\")\n",
    "    plt.ylabel(\"Predicted\")\n",
    "    plt.show()"
   ]
  },
  {
   "cell_type": "code",
   "execution_count": 56,
   "id": "01b459c7",
   "metadata": {},
   "outputs": [
    {
     "name": "stdout",
     "output_type": "stream",
     "text": [
      "Average accuracy on test set=0.9697986577181208\n",
      "              precision    recall  f1-score   support\n",
      "\n",
      "           0       0.99      0.97      0.98        76\n",
      "           1       0.98      1.00      0.99        45\n",
      "           2       0.95      0.91      0.93        58\n",
      "           3       1.00      0.97      0.98        65\n",
      "           4       0.93      1.00      0.96        54\n",
      "\n",
      "    accuracy                           0.97       298\n",
      "   macro avg       0.97      0.97      0.97       298\n",
      "weighted avg       0.97      0.97      0.97       298\n",
      "\n"
     ]
    },
    {
     "data": {
      "image/png": "[encoded data removed]",
      "text/plain": [
       "<Figure size 640x480 with 2 Axes>"
      ]
     },
     "metadata": {},
     "output_type": "display_data"
    }
   ],
   "source": [
    "print('Average accuracy on test set={}'.format(np.mean(Y_predicted_MNB == label_fit.transform(y_test))))\n",
    "print(classification_report(Y_predicted_MNB,y_test_transformed))\n",
    "plot_matrix(y_test_transformed, Y_predicted_MNB)"
   ]
  }
 ],
 "metadata": {
  "kernelspec": {
   "display_name": "base",
   "language": "python",
   "name": "python3"
  },
  "language_info": {
   "codemirror_mode": {
    "name": "ipython",
    "version": 3
   },
   "file_extension": ".py",
   "mimetype": "text/x-python",
   "name": "python",
   "nbconvert_exporter": "python",
   "pygments_lexer": "ipython3",
   "version": "3.11.5"
  }
 },
 "nbformat": 4,
 "nbformat_minor": 5
}
